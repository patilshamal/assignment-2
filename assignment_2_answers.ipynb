{
 "cells": [
  {
   "cell_type": "code",
   "execution_count": 15,
   "metadata": {},
   "outputs": [
    {
     "data": {
      "text/plain": [
       "21"
      ]
     },
     "execution_count": 15,
     "metadata": {},
     "output_type": "execute_result"
    }
   ],
   "source": [
    "#Task 1-1.1:\n",
    "def add(i,j):\n",
    "    k = i + j\n",
    "    return k\n",
    "\n",
    "def myreduce(func,list):\n",
    "    final = list[0]\n",
    "    for initial in list[1:]:\n",
    "        final = func(final,initial)\n",
    "    return final\n",
    "    \n",
    "myreduce(add,[1,2,3,4,5,6])"
   ]
  },
  {
   "cell_type": "code",
   "execution_count": 7,
   "metadata": {},
   "outputs": [
    {
     "name": "stdout",
     "output_type": "stream",
     "text": [
      "[1, 2, 3, 4, 5, 6, 7, 8, 9, 10]\n",
      "[2, 4, 6, 8, 10]\n"
     ]
    }
   ],
   "source": [
    "#Task 1-1.2:\n",
    "list = [1,2,3,4,5,6,7,8,9,10]\n",
    "output=[]\n",
    "def myevenfilter(l):\n",
    "    for i in l:\n",
    "        if i % 2 == 0:\n",
    "            output.append(i)\n",
    "    print(list)\n",
    "    print(output)\n",
    "        \n",
    "myfilter(list)"
   ]
  },
  {
   "cell_type": "code",
   "execution_count": 8,
   "metadata": {},
   "outputs": [
    {
     "name": "stdout",
     "output_type": "stream",
     "text": [
      "['A', 'C', 'A', 'D', 'G', 'I', 'L', 'D']\n"
     ]
    }
   ],
   "source": [
    "#Task 1-2.1:\n",
    "print([letter for letter in 'ACADGILD'])"
   ]
  },
  {
   "cell_type": "code",
   "execution_count": 13,
   "metadata": {},
   "outputs": [
    {
     "name": "stdout",
     "output_type": "stream",
     "text": [
      "['x', 'xx', 'xxx', 'xxxx', 'y', 'yy', 'yyy', 'yyyy', 'z', 'zz', 'zzz', 'zzzz']\n"
     ]
    }
   ],
   "source": [
    "#Task 1-2.2:\n",
    "list = ['x','y','z']\n",
    "output= [(j*i) for i in list for j in range(1,5)]\n",
    "print(output)"
   ]
  },
  {
   "cell_type": "code",
   "execution_count": 14,
   "metadata": {},
   "outputs": [
    {
     "name": "stdout",
     "output_type": "stream",
     "text": [
      "['x', 'y', 'z', 'xx', 'yy', 'zz', 'xxx', 'yyy', 'zzz', 'xxxx', 'yyyy', 'zzzz']\n"
     ]
    }
   ],
   "source": [
    "#Task 1-2.3:\n",
    "list = ['x','y','z']\n",
    "output=[(j*i) for i in range(1,5) for j in list]\n",
    "print(output)"
   ]
  },
  {
   "cell_type": "code",
   "execution_count": 15,
   "metadata": {},
   "outputs": [
    {
     "name": "stdout",
     "output_type": "stream",
     "text": [
      "[[2], [3], [4], [3], [4], [5], [4], [5], [6]]\n"
     ]
    }
   ],
   "source": [
    "#Task 1-2.4:\n",
    "list = [2,3,4]\n",
    "output=[([i+j]) for i in list for j in range(0,3)]\n",
    "print(output)"
   ]
  },
  {
   "cell_type": "code",
   "execution_count": 16,
   "metadata": {},
   "outputs": [
    {
     "name": "stdout",
     "output_type": "stream",
     "text": [
      "[[2, 3, 4, 5], [3, 4, 5, 6], [4, 5, 6, 7], [5, 6, 7, 8]]\n"
     ]
    }
   ],
   "source": [
    "#Task 1-2.5:\n",
    "list = [2,3,4,5]\n",
    "output=[[(i+j) for i in list] for j in range(0,4)]\n",
    "print(output)"
   ]
  },
  {
   "cell_type": "code",
   "execution_count": 17,
   "metadata": {},
   "outputs": [
    {
     "name": "stdout",
     "output_type": "stream",
     "text": [
      "[(1, 1), (2, 1), (3, 1), (1, 2), (2, 2), (3, 2), (1, 3), (2, 3), (3, 3)]\n"
     ]
    }
   ],
   "source": [
    "#Task 1-2.6:\n",
    "list=[1,2,3]\n",
    "output=[(i,j) for j in list for i in range(1,4)]\n",
    "print (output)"
   ]
  },
  {
   "cell_type": "code",
   "execution_count": 1,
   "metadata": {},
   "outputs": [
    {
     "name": "stdout",
     "output_type": "stream",
     "text": [
      "Enter comma separated words: Apple, Carrot, Orange, Pineapple, Banana\n",
      "word_list: ['Apple', ' Carrot', ' Orange', ' Pineapple', ' Banana']\n",
      "Longest Word =  Pineapple\n"
     ]
    }
   ],
   "source": [
    "#Task 1-3:\n",
    "str = input(\"Enter comma separated words: \")\n",
    "word_list= str.split(',')\n",
    "print(\"word_list:\", word_list)\n",
    "\n",
    "def longestWord(word):\n",
    "    l=0\n",
    "    for i in word:\n",
    "        l1=(len(i))\n",
    "        if l1 > l:\n",
    "            long_word = i\n",
    "            l=l1\n",
    "    return(long_word)\n",
    "\n",
    "print(\"Longest Word =\", longestWord(word_list))"
   ]
  },
  {
   "cell_type": "code",
   "execution_count": 2,
   "metadata": {},
   "outputs": [
    {
     "name": "stdout",
     "output_type": "stream",
     "text": [
      "Enter side1:3\n",
      "Enter side2:4\n",
      "Enter side3:5\n",
      "6.0\n"
     ]
    }
   ],
   "source": [
    "#Task 2-1.1:\n",
    "class Triangle_Side():\n",
    "    def __init__(self,s1,s2,s3):\n",
    "        self.s1 = float(s1)\n",
    "        self.s2 = float(s2)\n",
    "        self.s3 = float(s3)\n",
    "s1 = (input(\"Enter side1:\"))\n",
    "s2 = (input(\"Enter side2:\"))\n",
    "s3 = (input(\"Enter side3:\"))       \n",
    "\n",
    "    \n",
    "class Triangle_Area(Triangle_Side):\n",
    "    def __init__(self,s1,s2,s3):\n",
    "        super(Triangle_Area,self).__init__(s1,s2,s3)\n",
    "    \n",
    "    def calc_area(self):\n",
    "        s = (self.s1+self.s2+self.s3)/2\n",
    "        return (s*(s-self.s1)*(s-self.s2)*(s-self.s3)) ** 0.5\n",
    "\n",
    "a = Triangle_Area(s1,s2,s3)\n",
    "print(a.calc_area())"
   ]
  },
  {
   "cell_type": "code",
   "execution_count": 1,
   "metadata": {},
   "outputs": [
    {
     "name": "stdout",
     "output_type": "stream",
     "text": [
      "Enter comma separated words: Apple, Carrot, Orange, Pineapple, Banana\n",
      "Enter the length to filter: 6\n",
      "[' Carrot', ' Orange', ' Pineapple', ' Banana']\n"
     ]
    }
   ],
   "source": [
    "# Task 2-1.2:\n",
    "str = input(\"Enter comma separated words: \")\n",
    "num = int(input(\"Enter the length to filter: \"))\n",
    "filtered_list=[]\n",
    "word_list= str.split(',')\n",
    "\n",
    "def filter_long_words(word,n):\n",
    "    for i in word:\n",
    "        l=len(i)\n",
    "        if l >= n:\n",
    "            filtered_list.append(i)\n",
    "    print(filtered_list)\n",
    "\n",
    "filter_long_words(word_list,num)"
   ]
  },
  {
   "cell_type": "code",
   "execution_count": 3,
   "metadata": {},
   "outputs": [
    {
     "name": "stdout",
     "output_type": "stream",
     "text": [
      "Enter list of words: map,cap,tap,hello,world,word\n"
     ]
    },
    {
     "data": {
      "text/plain": [
       "[3, 3, 3, 5, 5, 4]"
      ]
     },
     "execution_count": 3,
     "metadata": {},
     "output_type": "execute_result"
    }
   ],
   "source": [
    "# Task 2-2.1:\n",
    "l = input(\"Enter list of words: \").split(\",\")\n",
    "\n",
    "def len_of_words(l1):\n",
    "    return list(map(lambda x:len(x), l1))\n",
    "\n",
    "len_of_words(l)"
   ]
  },
  {
   "cell_type": "code",
   "execution_count": 2,
   "metadata": {},
   "outputs": [
    {
     "name": "stdout",
     "output_type": "stream",
     "text": [
      "Enter a character: z\n"
     ]
    },
    {
     "data": {
      "text/plain": [
       "'false'"
      ]
     },
     "execution_count": 2,
     "metadata": {},
     "output_type": "execute_result"
    }
   ],
   "source": [
    "# Task 2-2.2:\n",
    "char = input(\"Enter a character: \")\n",
    "   \n",
    "def vowel(letter):\n",
    "    v_list = \"aeiou\"\n",
    "    if (letter in v_list):\n",
    "        return 'true'\n",
    "    else:\n",
    "        return 'false'\n",
    "        \n",
    "vowel(char.lower())"
   ]
  },
  {
   "cell_type": "code",
   "execution_count": null,
   "metadata": {},
   "outputs": [],
   "source": []
  }
 ],
 "metadata": {
  "kernelspec": {
   "display_name": "Python 3",
   "language": "python",
   "name": "python3"
  },
  "language_info": {
   "codemirror_mode": {
    "name": "ipython",
    "version": 3
   },
   "file_extension": ".py",
   "mimetype": "text/x-python",
   "name": "python",
   "nbconvert_exporter": "python",
   "pygments_lexer": "ipython3",
   "version": "3.7.6"
  }
 },
 "nbformat": 4,
 "nbformat_minor": 4
}
